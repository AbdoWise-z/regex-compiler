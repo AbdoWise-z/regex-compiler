{
 "cells": [
  {
   "metadata": {},
   "cell_type": "code",
   "outputs": [],
   "execution_count": null,
   "source": [
    "from NFA import *\n",
    "from RegexCompiler import *\n",
    "from IPython.display import display"
   ],
   "id": "bbd15e8e498bce3e"
  },
  {
   "metadata": {},
   "cell_type": "code",
   "outputs": [],
   "execution_count": null,
   "source": [
    "expr = \"[aA]bd(o|[ue]lrahman)\"\n",
    "text = \"Abdo\"\n",
    "nfa = regex_to_nfa(expr)\n",
    "dot = nfa.to_dot(expr)\n",
    "display(dot)\n",
    "print(\"Match string: \", text)\n",
    "print(\"Match Result: \", nfa.match(text))"
   ],
   "id": "7bbda15edded685f"
  },
  {
   "metadata": {},
   "cell_type": "code",
   "outputs": [],
   "execution_count": null,
   "source": [
    "def display_nfa(regex: str):\n",
    "    display(regex_to_nfa(regex).to_dot(regex))\n",
    "\n",
    "display_nfa(r'(a)(b)(cd)')"
   ],
   "id": "d3905011d280d06c"
  }
 ],
 "metadata": {
  "kernelspec": {
   "display_name": "Python 3",
   "language": "python",
   "name": "python3"
  },
  "language_info": {
   "codemirror_mode": {
    "name": "ipython",
    "version": 2
   },
   "file_extension": ".py",
   "mimetype": "text/x-python",
   "name": "python",
   "nbconvert_exporter": "python",
   "pygments_lexer": "ipython2",
   "version": "2.7.6"
  }
 },
 "nbformat": 4,
 "nbformat_minor": 5
}
